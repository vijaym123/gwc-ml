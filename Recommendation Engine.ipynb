{
 "cells": [
  {
   "cell_type": "markdown",
   "metadata": {},
   "source": [
    "In this tutorial, We will help you gain a basic understanding on collaborative based Recommender Systems, by building the most basic Recommender System out there. We hope that this tutorial motivates you to find out more about Recommender Systems, both in theory and practice. The prerequisites to reading this tutorial are \n",
    "- Knowledge of basic  programming language \n",
    "- A little bit of high-school algebra."
   ]
  },
  {
   "cell_type": "code",
   "execution_count": 50,
   "metadata": {},
   "outputs": [],
   "source": [
    "import math"
   ]
  },
  {
   "cell_type": "markdown",
   "metadata": {},
   "source": [
    "Dataset on book ratings given by customers.\n",
    "![alt text](image1.png)"
   ]
  },
  {
   "cell_type": "markdown",
   "metadata": {},
   "source": [
    "Dataset on what are people's hobbies\n",
    "![alt text](image2.png) ![alt text](image4.png)"
   ]
  },
  {
   "cell_type": "code",
   "execution_count": 51,
   "metadata": {},
   "outputs": [],
   "source": [
    "data = {\n",
    "    'person 1': { \n",
    "        'photos': 5.0, \n",
    "        'books': 0.0, \n",
    "        'videos': 5.0, \n",
    "        'games': 5.0\n",
    "    },\n",
    "    'person 2': { \n",
    "        'books': 5.0, \n",
    "        'videos': 0.0, \n",
    "        'games': 0.0\n",
    "    },\n",
    "    'person 3': { \n",
    "        'photos': 5.0, \n",
    "        'books': 5.0, \n",
    "        'videos': 0.0\n",
    "    },\n",
    "    'person 4': { \n",
    "        'photos': 0.0, \n",
    "        'videos': 5.0\n",
    "    },\n",
    "    'person 5': { \n",
    "        'photos': 5.0, \n",
    "        'books': 5.0, \n",
    "        'games': 0.0\n",
    "    }\n",
    "}"
   ]
  },
  {
   "cell_type": "markdown",
   "metadata": {},
   "source": [
    "In order to solve this kind of problems, we do need a way to measure how similar people are based on their rankings. A naive but popular approach is to compare every pair and find a similarity score; now the problem is to find an adequate similarity score. The most common approaches to the similarity problem, are score by Euclidean Distance.\n",
    "![alt text](image3.png)\n"
   ]
  },
  {
   "cell_type": "markdown",
   "metadata": {},
   "source": [
    "![alt text](image5.png)"
   ]
  },
  {
   "cell_type": "code",
   "execution_count": 52,
   "metadata": {},
   "outputs": [],
   "source": [
    "def euclidean_similarity(person1, person2):\n",
    "    common_ranked_items = []\n",
    "    for itm in data[person1]:\n",
    "        if itm in data[person2]:\n",
    "            common_ranked_items.append(itm)\n",
    "    rankings = [(data[person1][itm], data[person2][itm]) for itm in common_ranked_items]\n",
    "    distance = [pow(rank[0] - rank[1], 2) for rank in rankings]\n",
    "    return (100 / (1 + sum(distance)))"
   ]
  },
  {
   "cell_type": "markdown",
   "metadata": {},
   "source": [
    "How similar are two people?"
   ]
  },
  {
   "cell_type": "code",
   "execution_count": 53,
   "metadata": {},
   "outputs": [
    {
     "data": {
      "text/plain": [
       "100.0"
      ]
     },
     "execution_count": 53,
     "metadata": {},
     "output_type": "execute_result"
    }
   ],
   "source": [
    "euclidean_similarity('person 3', 'person 5')"
   ]
  },
  {
   "cell_type": "code",
   "execution_count": 54,
   "metadata": {},
   "outputs": [
    {
     "data": {
      "text/plain": [
       "1.9607843137254901"
      ]
     },
     "execution_count": 54,
     "metadata": {},
     "output_type": "execute_result"
    }
   ],
   "source": [
    "euclidean_similarity('person 3', 'person 4')"
   ]
  },
  {
   "cell_type": "code",
   "execution_count": 61,
   "metadata": {},
   "outputs": [],
   "source": [
    "def recommend(person, bound=2, similarity=euclidean_similarity):\n",
    "    scores = [(similarity(person, other), other) for other in data if other != person]\n",
    "\n",
    "    scores.sort()\n",
    "    scores.reverse()\n",
    "    \n",
    "    print(scores)\n",
    "\n",
    "    scores = scores[0:bound]\n",
    "    \n",
    "\n",
    "    recomms = {}\n",
    "\n",
    "    for sim, other in scores:\n",
    "        ranked = data[other]\n",
    "\n",
    "        for itm in ranked:\n",
    "            if itm not in data[person]:\n",
    "                weight = sim * ranked[itm]\n",
    "\n",
    "                if itm in recomms:\n",
    "                    s, weights = recomms[itm]\n",
    "                    recomms[itm] = (s + sim, weights + [weight])\n",
    "                else:\n",
    "                    recomms[itm] = (sim, [weight])\n",
    "\n",
    "    for r in recomms:\n",
    "        sim, item = recomms[r]\n",
    "        if r not in data[person]:\n",
    "            recomms[r] = sum(item) / sim\n",
    "\n",
    "    return recomms"
   ]
  },
  {
   "cell_type": "code",
   "execution_count": 65,
   "metadata": {},
   "outputs": [
    {
     "name": "stdout",
     "output_type": "stream",
     "text": [
      "[(100.0, 'person 3'), (100.0, 'person 2'), (3.8461538461538463, 'person 4'), (1.9607843137254901, 'person 1')]\n"
     ]
    },
    {
     "data": {
      "text/plain": [
       "{'videos': 0.0}"
      ]
     },
     "execution_count": 65,
     "metadata": {},
     "output_type": "execute_result"
    }
   ],
   "source": [
    "recommend('person 5')"
   ]
  },
  {
   "cell_type": "code",
   "execution_count": null,
   "metadata": {},
   "outputs": [],
   "source": []
  },
  {
   "cell_type": "code",
   "execution_count": null,
   "metadata": {},
   "outputs": [],
   "source": []
  },
  {
   "cell_type": "code",
   "execution_count": null,
   "metadata": {},
   "outputs": [],
   "source": []
  }
 ],
 "metadata": {
  "kernelspec": {
   "display_name": "environ",
   "language": "python",
   "name": "environ"
  },
  "language_info": {
   "codemirror_mode": {
    "name": "ipython",
    "version": 2
   },
   "file_extension": ".py",
   "mimetype": "text/x-python",
   "name": "python",
   "nbconvert_exporter": "python",
   "pygments_lexer": "ipython2",
   "version": "2.7.13"
  }
 },
 "nbformat": 4,
 "nbformat_minor": 2
}
